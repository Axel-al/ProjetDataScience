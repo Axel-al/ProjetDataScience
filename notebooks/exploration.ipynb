{
 "cells": [
  {
   "cell_type": "markdown",
   "id": "0de6f21b",
   "metadata": {},
   "source": [
    "# Analyse météorologique - Projet Data Science ESEO E3e\n",
    "\n",
    "Ce notebook contient les étapes d'analyse exploratoire des données météo horaires pour trois départements : 05, 21 et 29.  \n",
    "Les données ont été nettoyées en amont dans le dossier `clean_data/`.\n",
    "\n",
    "---"
   ]
  },
  {
   "cell_type": "markdown",
   "id": "506587cb",
   "metadata": {},
   "source": [
    "## Imports\n",
    "\n",
    "On importe les bibliothèques nécessaires à l’analyse (Pandas, Numpy, Seaborn, etc.)."
   ]
  },
  {
   "cell_type": "code",
   "execution_count": 1,
   "id": "e1ab51ed",
   "metadata": {},
   "outputs": [],
   "source": [
    "import pandas as pd\n",
    "import numpy as np\n",
    "import matplotlib.pyplot as plt\n",
    "import seaborn as sns\n",
    "import os, sys\n",
    "\n",
    "sns.set_theme(style=\"whitegrid\")"
   ]
  },
  {
   "cell_type": "markdown",
   "id": "10bcc19d",
   "metadata": {},
   "source": [
    "---\n",
    "## Positionnement du répertoire racine\n",
    "\n",
    "Ce bloc permet d'assurer que le notebook est exécuté depuis la **racine du projet**, même s'il est physiquement dans un sous-dossier (`notebooks/`)."
   ]
  },
  {
   "cell_type": "code",
   "execution_count": 2,
   "id": "dabf919d",
   "metadata": {},
   "outputs": [],
   "source": [
    "if 'project_root' not in globals():\n",
    "    project_root = os.path.abspath(\"..\")\n",
    "    os.chdir(project_root)\n",
    "    sys.path.append(project_root)"
   ]
  },
  {
   "cell_type": "markdown",
   "id": "5e514698",
   "metadata": {},
   "source": [
    "---\n",
    "## Chargement des données nettoyées\n",
    "\n",
    "Les fichiers nettoyés ont été prétraités avec `scripts/nettoyage.py`.  \n",
    "On les charge ici dans un DataFrame unique par département."
   ]
  },
  {
   "cell_type": "code",
   "execution_count": 3,
   "id": "c7655b73",
   "metadata": {},
   "outputs": [],
   "source": [
    "df_05 = pd.concat([\n",
    "    pd.read_csv(os.path.join(\"clean_data\", \"05\", file)) for file in os.listdir(os.path.join(\"clean_data\", \"05\"))\n",
    "], ignore_index=True)"
   ]
  },
  {
   "cell_type": "code",
   "execution_count": 4,
   "id": "686b4665",
   "metadata": {},
   "outputs": [],
   "source": [
    "df_21 = pd.concat([\n",
    "    pd.read_csv(os.path.join(\"clean_data\", \"21\", file)) for file in os.listdir(os.path.join(\"clean_data\", \"21\"))\n",
    "], ignore_index=True)"
   ]
  },
  {
   "cell_type": "code",
   "execution_count": 5,
   "id": "9a6bcd8b",
   "metadata": {},
   "outputs": [],
   "source": [
    "df_29 = pd.concat([\n",
    "    pd.read_csv(os.path.join(\"clean_data\", \"29\", file)) for file in os.listdir(os.path.join(\"clean_data\", \"29\"))\n",
    "], ignore_index=True)"
   ]
  },
  {
   "cell_type": "markdown",
   "id": "8c96773b",
   "metadata": {},
   "source": [
    "## Statistiques de base\n",
    "\n",
    "Pour chaque variable, on calcule les indicateurs descriptifs classiques : min, max, médiane, moyenne, écart-type…\n"
   ]
  },
  {
   "cell_type": "code",
   "execution_count": 6,
   "id": "70cb0117",
   "metadata": {},
   "outputs": [
    {
     "name": "stdout",
     "output_type": "stream",
     "text": [
      "Statistiques pour T :\n",
      "{'min': -29.2, 'Q1': 0.5, 'médiane': 6.6, 'Q3': 13.4, 'max': 41.0, 'moyenne': 7.209562595974611, 'écart-type': 9.358990691633702, 'écart-type relatif': 129.81357144827626}\n",
      "Statistiques pour U :\n",
      "{'min': 1.0, 'Q1': 48.0, 'médiane': 69.0, 'Q3': 87.0, 'max': 100.0, 'moyenne': 66.17126625396168, 'écart-type': 23.090891600344488, 'écart-type relatif': 34.89564717066607}\n",
      "Statistiques pour FF :\n",
      "{'min': 0.0, 'Q1': 0.8, 'médiane': 1.6, 'Q3': 3.1, 'max': 36.0, 'moyenne': 2.1893267731670005, 'écart-type': 2.0596658222967816, 'écart-type relatif': 94.07758803028494}\n",
      "Statistiques pour RR1 :\n",
      "{'min': 0.0, 'Q1': 0.0, 'médiane': 0.0, 'Q3': 0.0, 'max': 60.7, 'moyenne': 0.09460411857714612, 'écart-type': 0.580102105467079, 'écart-type relatif': 613.1890600450206}\n",
      "Statistiques pour N :\n",
      "{'min': 0.0, 'Q1': 1.0, 'médiane': 4.0, 'Q3': 8.0, 'max': 9.0, 'moyenne': 4.219106186714733, 'écart-type': 3.307316099436752, 'écart-type relatif': 78.38902253398939}\n"
     ]
    }
   ],
   "source": [
    "from scripts.utils import statistiques_base\n",
    "\n",
    "for col in [\"T\", \"U\", \"FF\", \"RR1\", \"N\"]:\n",
    "    print(f\"Statistiques pour {col} :\")\n",
    "    print(statistiques_base(df_05[col].dropna()))"
   ]
  }
 ],
 "metadata": {
  "kernelspec": {
   "display_name": "Python 3",
   "language": "python",
   "name": "python3"
  },
  "language_info": {
   "codemirror_mode": {
    "name": "ipython",
    "version": 3
   },
   "file_extension": ".py",
   "mimetype": "text/x-python",
   "name": "python",
   "nbconvert_exporter": "python",
   "pygments_lexer": "ipython3",
   "version": "3.10.6"
  }
 },
 "nbformat": 4,
 "nbformat_minor": 5
}
