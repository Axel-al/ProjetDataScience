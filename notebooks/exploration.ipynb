{
 "cells": [
  {
   "cell_type": "markdown",
   "id": "0de6f21b",
   "metadata": {},
   "source": [
    "# Analyse météorologique - Projet Data Science ESEO E3e\n",
    "\n",
    "Ce notebook contient les étapes d'analyse exploratoire des données météo horaires pour trois départements : 05, 21 et 29.  \n",
    "Les données ont été nettoyées en amont dans le dossier `clean_data/`.\n",
    "\n",
    "---"
   ]
  },
  {
   "cell_type": "markdown",
   "id": "506587cb",
   "metadata": {},
   "source": [
    "## Imports\n",
    "\n",
    "On importe les bibliothèques nécessaires à l’analyse (Pandas, Numpy, Seaborn, etc.)."
   ]
  },
  {
   "cell_type": "code",
   "execution_count": 1,
   "id": "e1ab51ed",
   "metadata": {},
   "outputs": [],
   "source": [
    "import pandas as pd\n",
    "import numpy as np\n",
    "import matplotlib.pyplot as plt\n",
    "import seaborn as sns\n",
    "import os, sys\n",
    "\n",
    "sns.set_theme(style=\"whitegrid\")"
   ]
  },
  {
   "cell_type": "markdown",
   "id": "10bcc19d",
   "metadata": {},
   "source": [
    "---\n",
    "## Positionnement du répertoire racine\n",
    "\n",
    "Ce bloc permet d'assurer que le notebook est exécuté depuis la **racine du projet**, même s'il est physiquement dans un sous-dossier (`notebooks/`)."
   ]
  },
  {
   "cell_type": "code",
   "execution_count": 2,
   "id": "dabf919d",
   "metadata": {},
   "outputs": [],
   "source": [
    "if 'project_root' not in globals():\n",
    "    project_root = os.path.abspath(\"..\")\n",
    "    os.chdir(project_root)\n",
    "    sys.path.append(project_root)"
   ]
  },
  {
   "cell_type": "markdown",
   "id": "5e514698",
   "metadata": {},
   "source": [
    "---\n",
    "## Chargement des données nettoyées\n",
    "\n",
    "Les fichiers nettoyés ont été prétraités avec `scripts/nettoyage.py`.  \n",
    "On les charge ici dans un DataFrame unique par département trié selon la date."
   ]
  },
  {
   "cell_type": "code",
   "execution_count": 3,
   "id": "c7655b73",
   "metadata": {},
   "outputs": [],
   "source": [
    "df_05 = pd.concat([\n",
    "    pd.read_csv(os.path.join(\"clean_data\", \"05\", file), parse_dates=['datetime']) for file in os.listdir(os.path.join(\"clean_data\", \"05\"))\n",
    "]).sort_values(\"datetime\").reset_index(drop=True)"
   ]
  },
  {
   "cell_type": "code",
   "execution_count": 4,
   "id": "686b4665",
   "metadata": {},
   "outputs": [],
   "source": [
    "df_21 = pd.concat([\n",
    "    pd.read_csv(os.path.join(\"clean_data\", \"21\", file), parse_dates=['datetime']) for file in os.listdir(os.path.join(\"clean_data\", \"21\"))\n",
    "]).sort_values(\"datetime\").reset_index(drop=True)"
   ]
  },
  {
   "cell_type": "code",
   "execution_count": 5,
   "id": "9a6bcd8b",
   "metadata": {},
   "outputs": [],
   "source": [
    "df_29 = pd.concat([\n",
    "    pd.read_csv(os.path.join(\"clean_data\", \"29\", file), parse_dates=['datetime']) for file in os.listdir(os.path.join(\"clean_data\", \"29\"))\n",
    "]).sort_values(\"datetime\").reset_index(drop=True)"
   ]
  },
  {
   "cell_type": "code",
   "execution_count": 6,
   "id": "3fa90d03",
   "metadata": {},
   "outputs": [],
   "source": [
    "dfs=[df_05, df_21, df_29]"
   ]
  },
  {
   "cell_type": "markdown",
   "id": "8c96773b",
   "metadata": {},
   "source": [
    "---\n",
    "## Statistiques de base\n",
    "\n",
    "Pour chaque variable, on calcule les indicateurs descriptifs classiques : min, max, médiane, moyenne, écart-type…\n"
   ]
  },
  {
   "cell_type": "code",
   "execution_count": 7,
   "id": "70cb0117",
   "metadata": {},
   "outputs": [],
   "source": [
    "from scripts.utils import statistiques_base"
   ]
  },
  {
   "cell_type": "code",
   "execution_count": 8,
   "id": "fef4b96e",
   "metadata": {},
   "outputs": [
    {
     "name": "stdout",
     "output_type": "stream",
     "text": [
      "Statistiques pour T :\n",
      "min: -29.2, Q1: 0.5, médiane: 6.6, Q3: 13.4, max: 41.0, moyenne: 7.209562595974603, écart-type: 9.3589906916337, écart-type relatif: 129.81357144827638\n",
      "Statistiques pour U :\n",
      "min: 1.0, Q1: 48.0, médiane: 69.0, Q3: 87.0, max: 100.0, moyenne: 66.17126625396168, écart-type: 23.09089160034448, écart-type relatif: 34.89564717066605\n",
      "Statistiques pour FF :\n",
      "min: 0.0, Q1: 0.8, médiane: 1.6, Q3: 3.1, max: 36.0, moyenne: 2.1893267731670005, écart-type: 2.0596658222967807, écart-type relatif: 94.0775880302849\n",
      "Statistiques pour RR1 :\n",
      "min: 0.0, Q1: 0.0, médiane: 0.0, Q3: 0.0, max: 60.7, moyenne: 0.09460411857714628, écart-type: 0.5801021054670789, écart-type relatif: 613.1890600450193\n",
      "Statistiques pour N :\n",
      "min: 0.0, Q1: 1.0, médiane: 4.0, Q3: 8.0, max: 9.0, moyenne: 4.219106186714733, écart-type: 3.307316099436752, écart-type relatif: 78.38902253398939\n"
     ]
    }
   ],
   "source": [
    "\n",
    "for col in [\"T\", \"U\", \"FF\", \"RR1\", \"N\"]:\n",
    "    print(f\"Statistiques pour {col} :\")\n",
    "    print(str(statistiques_base(df_05[col].dropna())).replace(\"'\", '')[1:-1])\n"
   ]
  },
  {
   "cell_type": "code",
   "execution_count": 9,
   "id": "8615d64e",
   "metadata": {},
   "outputs": [
    {
     "name": "stdout",
     "output_type": "stream",
     "text": [
      "Statistiques pour T :\n",
      "min: -23.4, Q1: 5.2, médiane: 10.5, Q3: 16.3, max: 42.0, moyenne: 10.906740365467282, écart-type: 7.882994868027636, écart-type relatif: 72.27635942436686\n",
      "Statistiques pour U :\n",
      "min: 10.0, Q1: 66.0, médiane: 83.0, Q3: 94.0, max: 100.0, moyenne: 78.04269728046322, écart-type: 18.387379990478077, écart-type relatif: 23.560666956959565\n",
      "Statistiques pour FF :\n",
      "min: 0.0, Q1: 1.7, médiane: 3.0, Q3: 4.3, max: 21.5, moyenne: 3.1850729186250915, écart-type: 2.133179499280323, écart-type relatif: 66.9742751196151\n",
      "Statistiques pour RR1 :\n",
      "min: 0.0, Q1: 0.0, médiane: 0.0, Q3: 0.0, max: 71.8, moyenne: 0.09384670666348553, écart-type: 0.5271301319410387, écart-type relatif: 561.6927334820774\n",
      "Statistiques pour N :\n",
      "min: 0.0, Q1: 6.0, médiane: 8.0, Q3: 8.0, max: 9.0, moyenne: 6.523915400557225, écart-type: 2.4769303682521437, écart-type relatif: 37.96692961470013\n"
     ]
    }
   ],
   "source": [
    "for col in [\"T\", \"U\", \"FF\", \"RR1\", \"N\"]:\n",
    "    print(f\"Statistiques pour {col} :\")\n",
    "    print(str(statistiques_base(df_21[col].dropna())).replace(\"'\", '')[1:-1])"
   ]
  },
  {
   "cell_type": "code",
   "execution_count": 10,
   "id": "1cacf25e",
   "metadata": {},
   "outputs": [
    {
     "name": "stdout",
     "output_type": "stream",
     "text": [
      "Statistiques pour T :\n",
      "min: -9.0, Q1: 8.8, médiane: 11.9, Q3: 15.3, max: 41.0, moyenne: 11.952310168544999, écart-type: 4.967071783453214, écart-type relatif: 41.557420393298536\n",
      "Statistiques pour U :\n",
      "min: 2.0, Q1: 76.0, médiane: 87.0, Q3: 94.0, max: 100.0, moyenne: 83.84667174808234, écart-type: 12.9459514417456, écart-type relatif: 15.44003020256041\n",
      "Statistiques pour FF :\n",
      "min: 0.0, Q1: 2.8, médiane: 4.5, Q3: 7.0, max: 42.0, moyenne: 5.223563865909801, écart-type: 3.4590056547792103, écart-type relatif: 66.21926607145535\n",
      "Statistiques pour RR1 :\n",
      "min: 0.0, Q1: 0.0, médiane: 0.0, Q3: 0.0, max: 42.0, moyenne: 0.11872084203862604, écart-type: 0.5266030984135078, écart-type relatif: 443.56415383423285\n",
      "Statistiques pour N :\n",
      "min: 0.0, Q1: 5.0, médiane: 7.0, Q3: 8.0, max: 9.0, moyenne: 6.246181364036153, écart-type: 2.3761363932801896, écart-type relatif: 38.04142490900679\n"
     ]
    }
   ],
   "source": [
    "for col in [\"T\", \"U\", \"FF\", \"RR1\", \"N\"]:\n",
    "    print(f\"Statistiques pour {col} :\")\n",
    "    print(str(statistiques_base(df_29[col].dropna())).replace(\"'\", '')[1:-1])"
   ]
  },
  {
   "cell_type": "markdown",
   "id": "d99162df",
   "metadata": {},
   "source": [
    "---\n",
    "## Inspection des données\n",
    "\n",
    "On vérifie que les types de colonnes sont corrects, qu’il n’y a pas de valeurs manquantes critiques, et que les plages temporelles sont cohérentes."
   ]
  },
  {
   "cell_type": "code",
   "execution_count": 11,
   "id": "b08600a9",
   "metadata": {},
   "outputs": [
    {
     "name": "stdout",
     "output_type": "stream",
     "text": [
      "<class 'pandas.core.frame.DataFrame'>\n",
      "RangeIndex: 3898220 entries, 0 to 3898219\n",
      "Data columns (total 6 columns):\n",
      " #   Column    Dtype         \n",
      "---  ------    -----         \n",
      " 0   datetime  datetime64[ns]\n",
      " 1   RR1       float64       \n",
      " 2   FF        float64       \n",
      " 3   T         float64       \n",
      " 4   U         float64       \n",
      " 5   N         float64       \n",
      "dtypes: datetime64[ns](1), float64(5)\n",
      "memory usage: 178.4 MB\n",
      "None\n",
      "\n",
      "datetime          0\n",
      "RR1          894707\n",
      "FF           625742\n",
      "T             26102\n",
      "U            522120\n",
      "N           3860494\n",
      "dtype: int64\n",
      "\n",
      "2000-01-01 00:00:00, 2025-05-28 03:00:00\n"
     ]
    }
   ],
   "source": [
    "print(df_05.info())\n",
    "print()\n",
    "print(df_05.isna().sum())\n",
    "print()\n",
    "print(f'{df_05[\"datetime\"].min()}, {df_05[\"datetime\"].max()}')"
   ]
  },
  {
   "cell_type": "code",
   "execution_count": 12,
   "id": "58dd3203",
   "metadata": {},
   "outputs": [
    {
     "name": "stdout",
     "output_type": "stream",
     "text": [
      "<class 'pandas.core.frame.DataFrame'>\n",
      "RangeIndex: 3472050 entries, 0 to 3472049\n",
      "Data columns (total 6 columns):\n",
      " #   Column    Dtype         \n",
      "---  ------    -----         \n",
      " 0   datetime  datetime64[ns]\n",
      " 1   RR1       float64       \n",
      " 2   FF        float64       \n",
      " 3   T         float64       \n",
      " 4   U         float64       \n",
      " 5   N         float64       \n",
      "dtypes: datetime64[ns](1), float64(5)\n",
      "memory usage: 158.9 MB\n",
      "None\n",
      "\n",
      "datetime          0\n",
      "RR1           35110\n",
      "FF          2014672\n",
      "T              5146\n",
      "U           1446558\n",
      "N           3326328\n",
      "dtype: int64\n",
      "\n",
      "2000-01-01 00:00:00, 2025-05-28 03:00:00\n"
     ]
    }
   ],
   "source": [
    "print(df_21.info())\n",
    "print()\n",
    "print(df_21.isna().sum())\n",
    "print()\n",
    "print(f'{df_21[\"datetime\"].min()}, {df_21[\"datetime\"].max()}')"
   ]
  },
  {
   "cell_type": "code",
   "execution_count": 13,
   "id": "f5adbceb",
   "metadata": {},
   "outputs": [
    {
     "name": "stdout",
     "output_type": "stream",
     "text": [
      "<class 'pandas.core.frame.DataFrame'>\n",
      "RangeIndex: 4622308 entries, 0 to 4622307\n",
      "Data columns (total 6 columns):\n",
      " #   Column    Dtype         \n",
      "---  ------    -----         \n",
      " 0   datetime  datetime64[ns]\n",
      " 1   RR1       float64       \n",
      " 2   FF        float64       \n",
      " 3   T         float64       \n",
      " 4   U         float64       \n",
      " 5   N         float64       \n",
      "dtypes: datetime64[ns](1), float64(5)\n",
      "memory usage: 211.6 MB\n",
      "None\n",
      "\n",
      "datetime          0\n",
      "RR1          603680\n",
      "FF          1002834\n",
      "T            562799\n",
      "U           1304335\n",
      "N           3642246\n",
      "dtype: int64\n",
      "\n",
      "2000-01-01 00:00:00, 2025-05-28 03:00:00\n"
     ]
    }
   ],
   "source": [
    "print(df_29.info())\n",
    "print()\n",
    "print(df_29.isna().sum())\n",
    "print()\n",
    "print(f'{df_29[\"datetime\"].min()}, {df_29[\"datetime\"].max()}')"
   ]
  }
 ],
 "metadata": {
  "kernelspec": {
   "display_name": "Python 3",
   "language": "python",
   "name": "python3"
  },
  "language_info": {
   "codemirror_mode": {
    "name": "ipython",
    "version": 3
   },
   "file_extension": ".py",
   "mimetype": "text/x-python",
   "name": "python",
   "nbconvert_exporter": "python",
   "pygments_lexer": "ipython3",
   "version": "3.10.6"
  }
 },
 "nbformat": 4,
 "nbformat_minor": 5
}
