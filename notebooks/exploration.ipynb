{
 "cells": [
  {
   "cell_type": "markdown",
   "id": "0de6f21b",
   "metadata": {},
   "source": [
    "# Analyse météorologique - Projet Data Science ESEO E3e\n",
    "\n",
    "Ce notebook contient les étapes d'analyse exploratoire des données météo horaires pour trois départements : 05, 21 et 29.  \n",
    "Les données ont été nettoyées en amont dans le dossier `clean_data/`.\n",
    "\n",
    "---"
   ]
  },
  {
   "cell_type": "markdown",
   "id": "506587cb",
   "metadata": {},
   "source": [
    "## Imports\n",
    "\n",
    "On importe les bibliothèques nécessaires à l’analyse (Pandas, Numpy, Seaborn, etc.)."
   ]
  },
  {
   "cell_type": "code",
   "execution_count": 20,
   "id": "e1ab51ed",
   "metadata": {},
   "outputs": [],
   "source": [
    "import pandas as pd\n",
    "import numpy as np\n",
    "import matplotlib.pyplot as plt\n",
    "import seaborn as sns\n",
    "import os\n",
    "import sys\n",
    "\n",
    "sns.set_theme(style=\"whitegrid\")\n",
    "os.chdir(\"..\")\n",
    "sys.path.append(\"./scripts\")"
   ]
  },
  {
   "cell_type": "markdown",
   "id": "5e514698",
   "metadata": {},
   "source": [
    "---\n",
    "## Chargement des données nettoyées\n",
    "\n",
    "Les fichiers nettoyés ont été prétraités avec `scripts/nettoyage.py`.  \n",
    "On les charge ici dans un DataFrame unique par département."
   ]
  },
  {
   "cell_type": "code",
   "execution_count": 13,
   "id": "c7655b73",
   "metadata": {},
   "outputs": [],
   "source": [
    "df_05 = pd.concat([\n",
    "    pd.read_csv(os.path.join(\"clean_data\", \"05\", file)) for file in os.listdir(os.path.join(\"clean_data\", \"05\"))\n",
    "], ignore_index=True)"
   ]
  },
  {
   "cell_type": "code",
   "execution_count": 14,
   "id": "686b4665",
   "metadata": {},
   "outputs": [],
   "source": [
    "df_21 = pd.concat([\n",
    "    pd.read_csv(os.path.join(\"clean_data\", \"21\", file)) for file in os.listdir(os.path.join(\"clean_data\", \"21\"))\n",
    "], ignore_index=True)"
   ]
  },
  {
   "cell_type": "code",
   "execution_count": 15,
   "id": "9a6bcd8b",
   "metadata": {},
   "outputs": [],
   "source": [
    "df_29 = pd.concat([\n",
    "    pd.read_csv(os.path.join(\"clean_data\", \"29\", file)) for file in os.listdir(os.path.join(\"clean_data\", \"29\"))\n",
    "], ignore_index=True)"
   ]
  },
  {
   "cell_type": "markdown",
   "id": "8c96773b",
   "metadata": {},
   "source": [
    "## Statistiques de base\n",
    "\n",
    "Pour chaque variable, on calcule les indicateurs descriptifs classiques : min, max, médiane, moyenne, écart-type…\n"
   ]
  },
  {
   "cell_type": "code",
   "execution_count": 19,
   "id": "70cb0117",
   "metadata": {},
   "outputs": [
    {
     "ename": "ModuleNotFoundError",
     "evalue": "No module named 'utils'",
     "output_type": "error",
     "traceback": [
      "\u001b[1;31m---------------------------------------------------------------------------\u001b[0m",
      "\u001b[1;31mModuleNotFoundError\u001b[0m                       Traceback (most recent call last)",
      "Cell \u001b[1;32mIn[19], line 1\u001b[0m\n\u001b[1;32m----> 1\u001b[0m \u001b[38;5;28;01mfrom\u001b[39;00m\u001b[38;5;250m \u001b[39m\u001b[38;5;21;01mutils\u001b[39;00m\u001b[38;5;250m \u001b[39m\u001b[38;5;28;01mimport\u001b[39;00m statistiques_base\n\u001b[0;32m      3\u001b[0m \u001b[38;5;28;01mfor\u001b[39;00m col \u001b[38;5;129;01min\u001b[39;00m [\u001b[38;5;124m\"\u001b[39m\u001b[38;5;124mT\u001b[39m\u001b[38;5;124m\"\u001b[39m, \u001b[38;5;124m\"\u001b[39m\u001b[38;5;124mU\u001b[39m\u001b[38;5;124m\"\u001b[39m, \u001b[38;5;124m\"\u001b[39m\u001b[38;5;124mFF\u001b[39m\u001b[38;5;124m\"\u001b[39m, \u001b[38;5;124m\"\u001b[39m\u001b[38;5;124mRR1\u001b[39m\u001b[38;5;124m\"\u001b[39m, \u001b[38;5;124m\"\u001b[39m\u001b[38;5;124mN\u001b[39m\u001b[38;5;124m\"\u001b[39m]:\n\u001b[0;32m      4\u001b[0m     \u001b[38;5;28mprint\u001b[39m(\u001b[38;5;124mf\u001b[39m\u001b[38;5;124m\"\u001b[39m\u001b[38;5;124mStatistiques pour \u001b[39m\u001b[38;5;132;01m{\u001b[39;00mcol\u001b[38;5;132;01m}\u001b[39;00m\u001b[38;5;124m :\u001b[39m\u001b[38;5;124m\"\u001b[39m)\n",
      "\u001b[1;31mModuleNotFoundError\u001b[0m: No module named 'utils'"
     ]
    }
   ],
   "source": [
    "from utils import statistiques_base\n",
    "\n",
    "for col in [\"T\", \"U\", \"FF\", \"RR1\", \"N\"]:\n",
    "    print(f\"Statistiques pour {col} :\")\n",
    "    print(statistiques_base(df_05[col].dropna()))"
   ]
  }
 ],
 "metadata": {
  "kernelspec": {
   "display_name": "Python 3",
   "language": "python",
   "name": "python3"
  },
  "language_info": {
   "codemirror_mode": {
    "name": "ipython",
    "version": 3
   },
   "file_extension": ".py",
   "mimetype": "text/x-python",
   "name": "python",
   "nbconvert_exporter": "python",
   "pygments_lexer": "ipython3",
   "version": "3.10.6"
  }
 },
 "nbformat": 4,
 "nbformat_minor": 5
}
